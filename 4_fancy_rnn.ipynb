{
  "nbformat": 4,
  "nbformat_minor": 0,
  "metadata": {
    "accelerator": "GPU",
    "colab": {
      "name": "4_fancy_rnn.ipynb",
      "provenance": [],
      "collapsed_sections": [],
      "toc_visible": true,
      "include_colab_link": true
    },
    "kernelspec": {
      "display_name": "Python 3",
      "name": "python3"
    }
  },
  "cells": [
    {
      "cell_type": "markdown",
      "metadata": {
        "id": "view-in-github",
        "colab_type": "text"
      },
      "source": [
        "<a href=\"https://colab.research.google.com/github/dkswndms4782/BoostCamp_AI_Tech/blob/main/4_fancy_rnn.ipynb\" target=\"_parent\"><img src=\"https://colab.research.google.com/assets/colab-badge.svg\" alt=\"Open In Colab\"/></a>"
      ]
    },
    {
      "cell_type": "markdown",
      "metadata": {
        "id": "0M47aJDTXtbL"
      },
      "source": [
        "##**4. LSTM, GRU**\r\n",
        "1. 기존 RNN과 다른 부분에 대해서 배웁니다.\r\n",
        "2. 이전 실습에 이어 다양한 적용법을 배웁니다."
      ]
    },
    {
      "cell_type": "markdown",
      "metadata": {
        "id": "jBoAWPAJSI2D"
      },
      "source": [
        "### **필요 패키지 import**"
      ]
    },
    {
      "cell_type": "code",
      "metadata": {
        "id": "vEnlDHarWusL"
      },
      "source": [
        "from tqdm import tqdm\r\n",
        "from torch import nn\r\n",
        "from torch.nn.utils.rnn import pack_padded_sequence, pad_packed_sequence\r\n",
        "\r\n",
        "import torch"
      ],
      "execution_count": null,
      "outputs": []
    },
    {
      "cell_type": "markdown",
      "metadata": {
        "id": "sze4MVwxSYPR"
      },
      "source": [
        "### **데이터 전처리**"
      ]
    },
    {
      "cell_type": "markdown",
      "metadata": {
        "id": "ugKWDpQrSY3o"
      },
      "source": [
        "아래의 sample data를 확인해봅시다.  \r\n",
        "이전 실습과 동일합니다."
      ]
    },
    {
      "cell_type": "code",
      "metadata": {
        "id": "IWjwZOmGYMhw"
      },
      "source": [
        "vocab_size = 100\r\n",
        "pad_id = 0\r\n",
        "\r\n",
        "data = [\r\n",
        "  [85,14,80,34,99,20,31,65,53,86,3,58,30,4,11,6,50,71,74,13],\r\n",
        "  [62,76,79,66,32],\r\n",
        "  [93,77,16,67,46,74,24,70],\r\n",
        "  [19,83,88,22,57,40,75,82,4,46],\r\n",
        "  [70,28,30,24,76,84,92,76,77,51,7,20,82,94,57],\r\n",
        "  [58,13,40,61,88,18,92,89,8,14,61,67,49,59,45,12,47,5],\r\n",
        "  [22,5,21,84,39,6,9,84,36,59,32,30,69,70,82,56,1],\r\n",
        "  [94,21,79,24,3,86],\r\n",
        "  [80,80,33,63,34,63],\r\n",
        "  [87,32,79,65,2,96,43,80,85,20,41,52,95,50,35,96,24,80]\r\n",
        "]"
      ],
      "execution_count": null,
      "outputs": []
    },
    {
      "cell_type": "code",
      "metadata": {
        "id": "FmqlfxW_Tsfm"
      },
      "source": [
        "max_len = len(max(data, key=len))\r\n",
        "print(f\"Maximum sequence length: {max_len}\")\r\n",
        "\r\n",
        "valid_lens = []\r\n",
        "for i, seq in enumerate(tqdm(data)):\r\n",
        "  valid_lens.append(len(seq))\r\n",
        "  if len(seq) < max_len:\r\n",
        "    data[i] = seq + [pad_id] * (max_len - len(seq))"
      ],
      "execution_count": null,
      "outputs": []
    },
    {
      "cell_type": "code",
      "metadata": {
        "id": "znWCR7UbTvVE"
      },
      "source": [
        "# B: batch size, L: maximum sequence length\r\n",
        "batch = torch.LongTensor(data)  # (B, L)\r\n",
        "batch_lens = torch.LongTensor(valid_lens)  # (B)\r\n",
        "\r\n",
        "batch_lens, sorted_idx = batch_lens.sort(descending=True)\r\n",
        "batch = batch[sorted_idx]\r\n",
        "\r\n",
        "print(batch)\r\n",
        "print(batch_lens)"
      ],
      "execution_count": null,
      "outputs": []
    },
    {
      "cell_type": "markdown",
      "metadata": {
        "id": "mPRtdhHoUKhH"
      },
      "source": [
        "### **LSTM 사용**"
      ]
    },
    {
      "cell_type": "markdown",
      "metadata": {
        "id": "l1FvfENCUqYN"
      },
      "source": [
        "LSTM에선 cell state가 추가됩니다.  \r\n",
        "Cell state의 shape는 hidden state의 그것과 동일합니다."
      ]
    },
    {
      "cell_type": "code",
      "metadata": {
        "id": "Q76VGoCCUrcQ"
      },
      "source": [
        "embedding_size = 256\r\n",
        "hidden_size = 512\r\n",
        "num_layers = 1\r\n",
        "num_dirs = 1\r\n",
        "\r\n",
        "embedding = nn.Embedding(vocab_size, embedding_size)\r\n",
        "lstm = nn.LSTM(\r\n",
        "    input_size=embedding_size,\r\n",
        "    hidden_size=hidden_size,\r\n",
        "    num_layers=num_layers,\r\n",
        "    bidirectional=True if num_dirs > 1 else False\r\n",
        ")\r\n",
        "\r\n",
        "h_0 = torch.zeros((num_layers * num_dirs, batch.shape[0], hidden_size))  # (num_layers * num_dirs, B, d_h)\r\n",
        "c_0 = torch.zeros((num_layers * num_dirs, batch.shape[0], hidden_size))  # (num_layers * num_dirs, B, d_h)"
      ],
      "execution_count": null,
      "outputs": []
    },
    {
      "cell_type": "code",
      "metadata": {
        "id": "uhS7qvIKWYYb"
      },
      "source": [
        "# d_w: word embedding size\r\n",
        "batch_emb = embedding(batch)  # (B, L, d_w)\r\n",
        "\r\n",
        "packed_batch = pack_padded_sequence(batch_emb.transpose(0, 1), batch_lens)\r\n",
        "\r\n",
        "packed_outputs, (h_n, c_n) = lstm(packed_batch, (h_0, c_0))\r\n",
        "print(packed_outputs)\r\n",
        "print(packed_outputs[0].shape)\r\n",
        "print(h_n.shape)\r\n",
        "print(c_n.shape)"
      ],
      "execution_count": null,
      "outputs": []
    },
    {
      "cell_type": "code",
      "metadata": {
        "id": "ArOrgjHjZqAa"
      },
      "source": [
        "outputs, output_lens = pad_packed_sequence(packed_outputs)\r\n",
        "print(outputs.shape)\r\n",
        "print(output_lens)"
      ],
      "execution_count": null,
      "outputs": []
    },
    {
      "cell_type": "markdown",
      "metadata": {
        "id": "meuNwIIn-H-g"
      },
      "source": [
        "### **GRU 사용**"
      ]
    },
    {
      "cell_type": "markdown",
      "metadata": {
        "id": "kMUysrtLihqt"
      },
      "source": [
        "GRU는 cell state가 없어 RNN과 동일하게 사용 가능합니다.   \r\n",
        "GRU를 이용하여 LM task를 수행해봅시다."
      ]
    },
    {
      "cell_type": "code",
      "metadata": {
        "id": "ZHw8PSf--lVg"
      },
      "source": [
        "gru = nn.GRU(\r\n",
        "    input_size=embedding_size,\r\n",
        "    hidden_size=hidden_size,\r\n",
        "    num_layers=num_layers,\r\n",
        "    bidirectional=True if num_dirs > 1 else False\r\n",
        ")"
      ],
      "execution_count": null,
      "outputs": []
    },
    {
      "cell_type": "code",
      "metadata": {
        "id": "GbMy2CkWzobD"
      },
      "source": [
        "output_layer = nn.Linear(hidden_size, vocab_size)"
      ],
      "execution_count": null,
      "outputs": []
    },
    {
      "cell_type": "code",
      "metadata": {
        "id": "YavlcFZywCBK"
      },
      "source": [
        "input_id = batch.transpose(0, 1)[0, :]  # (B)\r\n",
        "hidden = torch.zeros((num_layers * num_dirs, batch.shape[0], hidden_size))  # (1, B, d_h)"
      ],
      "execution_count": null,
      "outputs": []
    },
    {
      "cell_type": "markdown",
      "metadata": {
        "id": "e1tFGyvo-uHb"
      },
      "source": [
        "Teacher forcing 없이 이전에 얻은 결과를 다음 input으로 이용합니다."
      ]
    },
    {
      "cell_type": "code",
      "metadata": {
        "id": "J6HRC3TAxtGa"
      },
      "source": [
        "for t in range(max_len):\r\n",
        "  input_emb = embedding(input_id).unsqueeze(0)  # (1, B, d_w)\r\n",
        "  output, hidden = gru(input_emb, hidden)  # output: (1, B, d_h), hidden: (1, B, d_h)\r\n",
        "\r\n",
        "  # V: vocab size\r\n",
        "  output = output_layer(output)  # (1, B, V)\r\n",
        "  probs, top_id = torch.max(output, dim=-1)  # probs: (1, B), top_id: (1, B)\r\n",
        "\r\n",
        "  print(\"*\" * 50)\r\n",
        "  print(f\"Time step: {t}\")\r\n",
        "  print(output.shape)\r\n",
        "  print(probs.shape)\r\n",
        "  print(top_id.shape)\r\n",
        "\r\n",
        "  input_id = top_id.squeeze(0)  # (B)"
      ],
      "execution_count": null,
      "outputs": []
    },
    {
      "cell_type": "markdown",
      "metadata": {
        "id": "WY3vh9Cm4KaH"
      },
      "source": [
        "`max_len`만큼의 for 문을 돌면서 모든 결과물의 모양을 확인했지만 만약 종료 조건(예를 들어 문장의 끝을 나타내는 end token 등)이 되면 중간에 생성을 그만둘 수도 있습니다."
      ]
    },
    {
      "cell_type": "markdown",
      "metadata": {
        "id": "l07L_QncemE7"
      },
      "source": [
        "### **양방향 및 여러 layer 사용**"
      ]
    },
    {
      "cell_type": "markdown",
      "metadata": {
        "id": "lasjjz-teohw"
      },
      "source": [
        "이번엔 양방향 + 2개 이상의 layer를 쓸 때 얻을 수 있는 결과에 대해 알아봅니다."
      ]
    },
    {
      "cell_type": "code",
      "metadata": {
        "id": "JEy00WX3ghsb"
      },
      "source": [
        "num_layers = 2\r\n",
        "num_dirs = 2\r\n",
        "dropout=0.1\r\n",
        "\r\n",
        "gru = nn.GRU(\r\n",
        "    input_size=embedding_size,\r\n",
        "    hidden_size=hidden_size,\r\n",
        "    num_layers=num_layers,\r\n",
        "    dropout=dropout,\r\n",
        "    bidirectional=True if num_dirs > 1 else False\r\n",
        ")"
      ],
      "execution_count": null,
      "outputs": []
    },
    {
      "cell_type": "markdown",
      "metadata": {
        "id": "QX4LVL_Ag4kK"
      },
      "source": [
        "Bidirectional이 되었고 layer의 개수가 $2$로 늘었기 때문에 hidden state의 shape도 `(4, B, d_h)`가 됩니다."
      ]
    },
    {
      "cell_type": "code",
      "metadata": {
        "id": "Q8aBk8yrfOHU"
      },
      "source": [
        "# d_w: word embedding size, num_layers: layer의 개수, num_dirs: 방향의 개수\r\n",
        "batch_emb = embedding(batch)  # (B, L, d_w)\r\n",
        "h_0 = torch.zeros((num_layers * num_dirs, batch.shape[0], hidden_size))  # (num_layers * num_dirs, B, d_h) = (4, B, d_h)\r\n",
        "\r\n",
        "packed_batch = pack_padded_sequence(batch_emb.transpose(0, 1), batch_lens)\r\n",
        "\r\n",
        "packed_outputs, h_n = gru(packed_batch, h_0)\r\n",
        "print(packed_outputs)\r\n",
        "print(packed_outputs[0].shape)\r\n",
        "print(h_n.shape)"
      ],
      "execution_count": null,
      "outputs": []
    },
    {
      "cell_type": "code",
      "metadata": {
        "id": "VQdVtMcehndm"
      },
      "source": [
        "outputs, output_lens = pad_packed_sequence(packed_outputs)\r\n",
        "\r\n",
        "print(outputs.shape)  # (L, B, num_dirs*d_h)\r\n",
        "print(output_lens)"
      ],
      "execution_count": null,
      "outputs": []
    },
    {
      "cell_type": "markdown",
      "metadata": {
        "id": "byuggMjekUxS"
      },
      "source": [
        "각각의 결과물의 shape는 다음과 같습니다.\r\n",
        "\r\n",
        "`outputs`: `(max_len, batch_size, num_dir * hidden_size)`  \r\n",
        "`h_n`: `(num_layers*num_dirs, batch_size, hidden_size)`"
      ]
    },
    {
      "cell_type": "code",
      "metadata": {
        "id": "HaXhvyHjmFR3"
      },
      "source": [
        "batch_size = h_n.shape[1]\r\n",
        "print(h_n.view(num_layers, num_dirs, batch_size, hidden_size))\r\n",
        "print(h_n.view(num_layers, num_dirs, batch_size, hidden_size).shape)"
      ],
      "execution_count": null,
      "outputs": []
    }
  ]
}